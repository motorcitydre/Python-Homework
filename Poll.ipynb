{
 "cells": [
  {
   "cell_type": "code",
   "execution_count": 7,
   "metadata": {},
   "outputs": [],
   "source": [
    "#import items\n",
    "import os\n",
    "import csv"
   ]
  },
  {
   "cell_type": "code",
   "execution_count": 8,
   "metadata": {},
   "outputs": [],
   "source": [
    "#Load files\n",
    "csvpath = os.path.join(\"Resources\", \"election_data.csv\")\n",
    "pathout = os.path.join(\"Resources\", \"Election Analysis\")"
   ]
  },
  {
   "cell_type": "code",
   "execution_count": null,
   "metadata": {},
   "outputs": [],
   "source": [
    "# Read the csv and convert it into a list of dictionaries\n",
    "with open(file_to_load) as emp_data:\n",
    "    reader = csv.DictReader(emp_data)"
   ]
  },
  {
   "cell_type": "code",
   "execution_count": null,
   "metadata": {},
   "outputs": [],
   "source": [
    "#Variables I need to use\n",
    "votes = 0\n",
    "winner_votes = 0\n",
    "total_candidates = 0\n",
    "greatest_votes = [\"\", o]\n",
    "candidate_options = []\n",
    "candidate_votes{}"
   ]
  },
  {
   "cell_type": "code",
   "execution_count": null,
   "metadata": {},
   "outputs": [],
   "source": [
    "#read the data\n",
    "with open(csvpath) as election_data:\n",
    "    reader = csv.DictReader(election_data)"
   ]
  },
  {
   "cell_type": "code",
   "execution_count": null,
   "metadata": {},
   "outputs": [],
   "source": [
    "#Create loop to do work within to find the finish products\n",
    "    for row in reader:\n",
    "        votes = votes + 1\n",
    "        total_candidates = row[\"Candidate\"]\n",
    "\n",
    "        if row[\"Candiate not in candiate_options\"]:\n",
    "            candidate_options.append(row[\"Candidate\"])\n",
    "            candidate_votes[row[\"Candidate\"]] = 1\n",
    "\n",
    "        else \n",
    "\n",
    "            candidate_votes[row[\"Candidate\"]] = candidates_votes[row[\"Candidate\"]] + 1"
   ]
  },
  {
   "cell_type": "code",
   "execution_count": null,
   "metadata": {},
   "outputs": [],
   "source": [
    "#print information\n",
    "     print()\n",
    "    print()\n",
    "    print()\n",
    "    print(\"Election Results\")\n",
    "    print(\"-------------------------\")\n",
    "    print(\"Total Votes \" + str(votes))\n",
    "    print(\"-------------------------\")"
   ]
  },
  {
   "cell_type": "code",
   "execution_count": null,
   "metadata": {},
   "outputs": [],
   "source": [
    "#results\n",
    "    for candidate in candidate_votes:\n",
    "        print(candidate + \" \" + str(round(((candidate_votes[candidate]/votes)*100))) + \"%\" + \" (\" + str(candidate_votes[candidate]) + \")\") \n",
    "        candidate_results = (candidate + \" \" + str(round(((candidate_votes[candidate]/votes)*100))) + \"%\" + \" (\" + str(candidate_votes[candidate]) + \")\") \n",
    "    \n",
    "candidate_votes\n",
    "\n",
    "winner = sorted(candidate_votes.items(), key=itemgetter(1), reverse=True)"
   ]
  },
  {
   "cell_type": "code",
   "execution_count": null,
   "metadata": {},
   "outputs": [],
   "source": [
    "#results\n",
    "print(\"-------------------------\")\n",
    "print(\"Winner: \" + str(winner[0]))\n",
    "print(\"-------------------------\")"
   ]
  }
 ],
 "metadata": {
  "kernelspec": {
   "display_name": "Python 3",
   "language": "python",
   "name": "python3"
  },
  "language_info": {
   "codemirror_mode": {
    "name": "ipython",
    "version": 3
   },
   "file_extension": ".py",
   "mimetype": "text/x-python",
   "name": "python",
   "nbconvert_exporter": "python",
   "pygments_lexer": "ipython3",
   "version": "3.6.9"
  }
 },
 "nbformat": 4,
 "nbformat_minor": 2
}
